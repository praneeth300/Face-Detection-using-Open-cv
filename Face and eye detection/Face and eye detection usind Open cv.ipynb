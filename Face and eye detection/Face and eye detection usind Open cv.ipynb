{
 "cells": [
  {
   "cell_type": "markdown",
   "metadata": {},
   "source": [
    "### Face and eye detection using Open cv python "
   ]
  },
  {
   "cell_type": "code",
   "execution_count": 1,
   "metadata": {},
   "outputs": [],
   "source": [
    "#Import the libraries\n",
    "import cv2\n",
    "import numpy as np"
   ]
  },
  {
   "cell_type": "code",
   "execution_count": 29,
   "metadata": {},
   "outputs": [],
   "source": [
    "#Load the cascadclassifier in to the open cv\n",
    "#To detect the face\n",
    "face_detect=cv2.CascadeClassifier('haarcascade_frontalface_default.xml')\n",
    "#To detect the eyes\n",
    "eye_detect=cv2.CascadeClassifier('haarcascade_eye.xml')\n",
    "\n",
    "#Load our images and then convert in to the grey images\n",
    "img=cv2.imread('obama2.jpg')\n",
    "#Covert in to grey scale image\n",
    "grey=cv2.cvtColor(img,cv2.COLOR_BGR2GRAY)\n",
    "\n",
    "#Our classifier returns the ROI of the detect face as a tuple it stores the top left coordinates and bottom right coordinates\n",
    "faces = face_detect.detectMultiScale(grey,1.3,5)\n",
    "    \n",
    "#We iterate through our faces array and draw rectangle\n",
    "for (x,y,w,h) in faces:\n",
    "    #Create a rectangle shaped object around the face \n",
    "    cv2.rectangle(img, (x,y),(x+w,y+h),(127,0,255),2)\n",
    "    #Display a image with a name 'Img'\n",
    "    cv2.imshow('Img',img)\n",
    "    #Escape when press any key \n",
    "    cv2.waitKey(0)\n",
    "    rol_grey=grey[y:y+h , x:x+w]\n",
    "    rol_color=img[y:y+h , x:x+w]\n",
    "    eyes= eye_detect.detectMultiScale(rol_grey)\n",
    "    #To detect the eyes \n",
    "    for (ex,ey,ew,eh) in eyes:\n",
    "        cv2.rectangle(rol_color,(ex,ey),(ex+ew,ey+eh),(255,255,0),2)\n",
    "        cv2.imshow('Img',img)\n",
    "        #Exit from the image when press any key\n",
    "        cv2.waitKey(0)\n",
    "#Escape from all the windows\n",
    "cv2.destroyAllWindows()"
   ]
  },
  {
   "cell_type": "markdown",
   "metadata": {},
   "source": [
    "Here the result's"
   ]
  },
  {
   "cell_type": "markdown",
   "metadata": {},
   "source": [
    "<img src='sample.png.jpg'>"
   ]
  }
 ],
 "metadata": {
  "kernelspec": {
   "display_name": "Python 3",
   "language": "python",
   "name": "python3"
  },
  "language_info": {
   "codemirror_mode": {
    "name": "ipython",
    "version": 3
   },
   "file_extension": ".py",
   "mimetype": "text/x-python",
   "name": "python",
   "nbconvert_exporter": "python",
   "pygments_lexer": "ipython3",
   "version": "3.8.3"
  }
 },
 "nbformat": 4,
 "nbformat_minor": 4
}
